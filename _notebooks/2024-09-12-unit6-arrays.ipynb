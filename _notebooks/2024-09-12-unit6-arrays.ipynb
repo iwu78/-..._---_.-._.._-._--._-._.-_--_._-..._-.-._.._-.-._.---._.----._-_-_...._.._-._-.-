{
 "cells": [
  {
   "cell_type": "markdown",
   "metadata": {},
   "source": [
    "---\n",
    "layout: post\n",
    "title: Unit 6 - Arrays\n",
    "description: Unit 6 Team Teach - Arrays\n",
    "comments: true\n",
    "---"
   ]
  },
  {
   "cell_type": "markdown",
   "metadata": {},
   "source": [
    "## Intro to Arrays\n",
    "- Like lists in python\n",
    "- Group of elements(Strings, integers, doubles, etc.)\n"
   ]
  }
 ],
 "metadata": {
  "language_info": {
   "name": "python"
  }
 },
 "nbformat": 4,
 "nbformat_minor": 2
}
