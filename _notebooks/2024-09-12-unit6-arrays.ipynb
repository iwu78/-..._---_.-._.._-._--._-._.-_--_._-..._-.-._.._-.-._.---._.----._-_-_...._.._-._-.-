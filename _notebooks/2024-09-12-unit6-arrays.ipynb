{
 "cells": [
  {
   "cell_type": "markdown",
   "metadata": {},
   "source": [
    "---\n",
    "layout: post\n",
    "title: Unit 6 - Arrays\n",
    "description: Unit 6 Team Teach - Arrays\n",
    "comments: true\n",
    "---"
   ]
  },
  {
   "cell_type": "markdown",
   "metadata": {},
   "source": [
    "## 6.1 Array Creation and Access\n",
    "\n",
    "#### MUST KNOW TERMS\n",
    "- Array: A data structure that holds a group of object references.\n",
    "- Element: A single item stored inside an array.\n",
    "- Element index: The location of an element in the array (in Java AND PYTHON(called a list) the first element is at index 0).\n",
    "- Array length: Number of elements in the Array\n"
   ]
  },
  {
   "cell_type": "markdown",
   "metadata": {
    "vscode": {
     "languageId": "plaintext"
    }
   },
   "source": [
    "## Declaring Array\n",
    "To declare an array, you need the name of the array and the datatype.\n",
    "\n",
    "Syntax: dataType[] arrayName;\n",
    "\n",
    "\n",
    "(note in python that no need to declare which is called dynamic typing)"
   ]
  },
  {
   "cell_type": "markdown",
   "metadata": {},
   "source": [
    "### Java"
   ]
  },
  {
   "cell_type": "code",
   "execution_count": 1,
   "metadata": {},
   "outputs": [],
   "source": [
    "int[] numbers; // Declare an integer array\n",
    "String[] names; // Declare a string array\n",
    "boolean[] light_switch;"
   ]
  },
  {
   "cell_type": "markdown",
   "metadata": {},
   "source": [
    "## Creating an Array\n",
    "\n",
    "Gives memory for the array but we need to specify its size for java(with arraylists in the next lesson you won't)"
   ]
  },
  {
   "cell_type": "code",
   "execution_count": 2,
   "metadata": {},
   "outputs": [],
   "source": [
    "// Syntax: arrayName = new dataType[size];\n",
    "numbers = new int[5]; // Create an integer array with 5 elements\n",
    "names = new String[3]; // Create a string array with 3 elements\n",
    "light_switch= new boolean[5];"
   ]
  },
  {
   "cell_type": "code",
   "execution_count": 4,
   "metadata": {},
   "outputs": [],
   "source": [
    "numbers=list()\n",
    "names=list()\n",
    "light_switch=list()"
   ]
  },
  {
   "cell_type": "markdown",
   "metadata": {},
   "source": [
    "## Accessing Array Elements\n",
    "\n",
    "Acsessing an element's value using it's index in the array"
   ]
  },
  {
   "cell_type": "code",
   "execution_count": 2,
   "metadata": {},
   "outputs": [
    {
     "name": "stdout",
     "output_type": "stream",
     "text": [
      "20\n"
     ]
    }
   ],
   "source": [
    "int[] numbers = {10, 20, 30, 40, 50};\n",
    "int element = numbers[1]; // Access the first element (10) using index 2\n",
    "System.out.println(element); // Output: 30"
   ]
  },
  {
   "cell_type": "markdown",
   "metadata": {
    "vscode": {
     "languageId": "java"
    }
   },
   "source": [
    "# 6.3 Enhanced For Loop for Arrays\n",
    "\n",
    "The \"Enhanced For Loop\" is otherwise known as a for each loop.\n",
    "This provides a simple way to loop through iterable data structures such as arrays and lists. \n",
    "The syntax for this loop is as follows,"
   ]
  },
  {
   "cell_type": "code",
   "execution_count": null,
   "metadata": {},
   "outputs": [],
   "source": [
    "for(dataType element : array) { \n",
    "    //code to be ran on an element\n",
    "}"
   ]
  },
  {
   "cell_type": "markdown",
   "metadata": {},
   "source": [
    "If this syntax is unfamiliar, perhaps the Python version can be used as reference"
   ]
  },
  {
   "cell_type": "code",
   "execution_count": null,
   "metadata": {},
   "outputs": [],
   "source": [
    "for element in array:\n",
    "    #code to be ran on element"
   ]
  },
  {
   "cell_type": "markdown",
   "metadata": {},
   "source": [
    "Here's an example of using these types of loops to calculate the sum of an Array\n",
    "Do note the iterated element has to be of the data type in the array. "
   ]
  },
  {
   "cell_type": "code",
   "execution_count": 1,
   "metadata": {},
   "outputs": [
    {
     "name": "stdout",
     "output_type": "stream",
     "text": [
      "1\n",
      "2\n",
      "3\n",
      "4\n",
      "5\n",
      "6\n",
      "7\n",
      "8\n",
      "9\n",
      "10\n",
      "55\n"
     ]
    }
   ],
   "source": [
    "int sum = 0;\n",
    "int[] numArray = {1,2,3,4,5,6,7,8,9,10};\n",
    "for(int numElement : numArray)\n",
    "{\n",
    "    System.out.println(numElement);\n",
    "    sum += numElement;\n",
    "}\n",
    "System.out.println(sum);"
   ]
  },
  {
   "cell_type": "markdown",
   "metadata": {
    "vscode": {
     "languageId": "java"
    }
   },
   "source": [
    "# Popcorn Hack: Rewrite For Loop with For Each Loop\n",
    "\n",
    "You are working as an intern for a car sales company at their IT department. \n",
    "Your new task your boss gave you is to post the prices and names of the newest cars to be sold\n",
    "The previous IT developer couldnt get their for loop to work.\n",
    "Could you fix the issue?\n",
    "\n",
    "\n",
    "Given the following code, rewrite the script to use a for each loop instead of the for loop and fix the problem"
   ]
  },
  {
   "cell_type": "code",
   "execution_count": null,
   "metadata": {},
   "outputs": [],
   "source": [
    "import java.util.HashMap;\n",
    "import java.util.Map;\n",
    "Map<String, Integer> carMap = new HashMap<String, Integer>();\n",
    "/*\n",
    " HashMap Syntax\n",
    " Map.Entry<String, Integer> entry for iterable loops\n",
    " Refer to the iterated HashMap as carMap.entrySet()\n",
    " entry.getKey()\n",
    "  entry.getValue()\n",
    "*/\n",
    "\n",
    "carMap.put(\"MortMobile\",9999);\n",
    "carMap.put(\"CSAwesomeCar\",500);\n",
    "carMap.put(\"ArrayceCar\",5000);\n",
    "\n",
    "for(int i=0;i<carMap.length;i++) //for the next developer: please fix this!!\n",
    "{\n",
    "    System.out.println(carMap[i]);\n",
    "    \n",
    "}"
   ]
  },
  {
   "cell_type": "code",
   "execution_count": 2,
   "metadata": {},
   "outputs": [
    {
     "name": "stdout",
     "output_type": "stream",
     "text": [
      "CSAwesomeCar\n",
      "500\n",
      "ArrayceCar\n",
      "5000\n",
      "MortMobile\n",
      "9999\n"
     ]
    }
   ],
   "source": [
    "//Sample Solution\n",
    "import java.util.HashMap;\n",
    "import java.util.Map;\n",
    "        Map<String, Integer> carMap = new HashMap<String, Integer>();\n",
    "\n",
    "        carMap.put(\"MortMobile\",9999);\n",
    "        carMap.put(\"CSAwesomeCar\",500);\n",
    "        carMap.put(\"ArrayceCar\",5000);\n",
    "        for(Map.Entry<String, Integer> entry : carMap.entrySet())\n",
    "        {\n",
    "            System.out.println(entry.getKey());\n",
    "            System.out.println(entry.getValue());\n",
    "        }"
   ]
  }
 ],
 "metadata": {
  "kernelspec": {
   "display_name": "Java",
   "language": "java",
   "name": "java"
  },
  "language_info": {
   "codemirror_mode": "java",
   "file_extension": ".jshell",
   "mimetype": "text/x-java-source",
   "name": "java",
   "pygments_lexer": "java",
   "version": "17.0.12+7-Ubuntu-1ubuntu222.04"
  }
 },
 "nbformat": 4,
 "nbformat_minor": 2
}
