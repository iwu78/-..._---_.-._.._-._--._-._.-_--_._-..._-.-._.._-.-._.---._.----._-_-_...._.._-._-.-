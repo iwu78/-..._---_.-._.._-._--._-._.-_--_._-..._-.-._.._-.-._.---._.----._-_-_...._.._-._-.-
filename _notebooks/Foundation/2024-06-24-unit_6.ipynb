{
 "cells": [
  {
   "cell_type": "raw",
   "metadata": {
    "vscode": {
     "languageId": "raw"
    }
   },
   "source": [
    "---\n",
    "layout: post\n",
    "toc: true\n",
    "title: Unit 6 - Arrays\n",
    "description: Arrays Lesson\n",
    "authors: Aniket Chakradeo, Soham Kamat\n",
    "categories: [AP CSA]\n",
    "courses: { csa: {week: 6} }\n",
    "type: ccc\n",
    "permalink: /unit6lesson\n",
    "---"
   ]
  },
  {
   "cell_type": "markdown",
   "metadata": {},
   "source": [
    "## 6.1 Array Creation and Access\n",
    "\n",
    "#### MUST KNOW TERMS\n",
    "- Array: A data structure that holds a group of object references.\n",
    "- Element: A single item stored inside an array.\n",
    "- Element index: The location of an element in the array (in Java AND PYTHON(called a list) the first element is at index 0).\n",
    "- Array length: Number of elements in the Array\n"
   ]
  },
  {
   "cell_type": "markdown",
   "metadata": {},
   "source": [
    "## Declaring Array\n",
    "To declare an array, you need the name of the array and the datatype.\n",
    "\n",
    "Syntax: dataType[] arrayName;\n",
    "\n",
    "\n",
    "(note in python that no need to declare which is called dynamic typing)"
   ]
  },
  {
   "cell_type": "code",
   "execution_count": 1,
   "metadata": {},
   "outputs": [],
   "source": [
    "int[] numbers; // Declare an integer array\n",
    "String[] names; // Declare a string array\n",
    "boolean[] light_switch;"
   ]
  },
  {
   "cell_type": "markdown",
   "metadata": {},
   "source": [
    "## Creating an Array\n",
    "\n",
    "Gives memory for the array but we need to specify its size for java compared to python(with arraylists in the next lesson you won't)"
   ]
  },
  {
   "cell_type": "code",
   "execution_count": null,
   "metadata": {},
   "outputs": [],
   "source": [
    "// Syntax: arrayName = new dataType[size];\n",
    "numbers = new int[5]; // Create an integer array with 5 elements\n",
    "names = new String[3]; // Create a string array with 3 elements\n",
    "light_switch= new boolean[5];"
   ]
  },
  {
   "cell_type": "code",
   "execution_count": null,
   "metadata": {},
   "outputs": [],
   "source": [
    "numbers=list()\n",
    "names=list()\n",
    "light_switch=list()"
   ]
  },
  {
   "cell_type": "markdown",
   "metadata": {},
   "source": [
    "## Accessing Array Elements\n",
    "\n",
    "Acsessing an element's value using it's index in the array"
   ]
  },
  {
   "cell_type": "code",
   "execution_count": 2,
   "metadata": {},
   "outputs": [
    {
     "name": "stdout",
     "output_type": "stream",
     "text": [
      "20\n"
     ]
    }
   ],
   "source": [
    "int[] numbers = {10, 20, 30, 40, 50};\n",
    "int element = numbers[1]; // Access the first element (10) using index 2\n",
    "System.out.println(element); // Output: 30"
   ]
  },
  {
   "cell_type": "code",
   "execution_count": null,
   "metadata": {},
   "outputs": [],
   "source": [
    "element=numbers[0] # the first element in the array/list\n",
    "print(element)"
   ]
  },
  {
   "cell_type": "markdown",
   "metadata": {},
   "source": [
    "## Array Length\n",
    "Finding the length of the array."
   ]
  },
  {
   "cell_type": "code",
   "execution_count": null,
   "metadata": {},
   "outputs": [],
   "source": [
    "int[] numbers = {10, 20, 30, 40, 50, 60, 70, 80, 90};\n",
    "int length = numbers.length; // Get the length of the array and assign to an integer variable\n",
    "System.out.println(\"Array length: \" + length); // Output: Array length: 5"
   ]
  },
  {
   "cell_type": "code",
   "execution_count": null,
   "metadata": {},
   "outputs": [],
   "source": [
    "numbers=[10,20,30,40,50,60,70,80,90]\n",
    "length=len(numbers)\n",
    "print(length)"
   ]
  },
  {
   "cell_type": "markdown",
   "metadata": {},
   "source": [
    "## Modifying Array Elements\n",
    "Updates the value of a specific element in the array."
   ]
  },
  {
   "cell_type": "code",
   "execution_count": 7,
   "metadata": {},
   "outputs": [
    {
     "name": "stdout",
     "output_type": "stream",
     "text": [
      "Before: [10, 20, 30, 40, 50]\n",
      "After: [10, 20, 35, 40, 50]\n",
      "Before: [true, false, true, false]\n",
      "After: [false, false, true, false]\n"
     ]
    }
   ],
   "source": [
    "// integer array\n",
    "\n",
    "int[] numbers = {10, 20, 30, 40, 50};\n",
    "System.out.println(\"Before: \"+Arrays.toString(numbers));\n",
    "numbers[2] = 35; // Change the third element to 35\n",
    "System.out.println(\"After: \"+Arrays.toString(numbers));\n",
    "\n",
    "\n",
    "// boolean array\n",
    "\n",
    "boolean[]light_switch={true,false,true,false}; //array of light switches with true meaning the light is on and false meaning its off\n",
    "System.out.println(\"Before: \"+Arrays.toString(light_switch));\n",
    "light_switch[0]=false; // turn off the first switch    true-->false\n",
    "System.out.println(\"After: \"+Arrays.toString(light_switch));\n"
   ]
  },
  {
   "cell_type": "code",
   "execution_count": 1,
   "metadata": {},
   "outputs": [
    {
     "name": "stdout",
     "output_type": "stream",
     "text": [
      "Before [10, 20, 30, 40]\n",
      "After [10, 100, 30, 40]\n"
     ]
    }
   ],
   "source": [
    "numbers=[10,20,30,40]\n",
    "print(\"Before\",numbers)\n",
    "numbers[1]=100 # changing the second element to 100\n",
    "print(\"After\",numbers)"
   ]
  },
  {
   "cell_type": "markdown",
   "metadata": {},
   "source": [
    "## Iterating Through an Array\n",
    "Loops through the array, printing each element."
   ]
  },
  {
   "cell_type": "code",
   "execution_count": 4,
   "metadata": {},
   "outputs": [
    {
     "name": "stdout",
     "output_type": "stream",
     "text": [
      "Index 0: 10\n",
      "Index 1: 20\n",
      "Index 2: 30\n",
      "Index 3: 40\n",
      "Index 4: 50\n"
     ]
    }
   ],
   "source": [
    "int[] numbers = {10, 20, 30, 40, 50};\n",
    "for (int i = 0; i < numbers.length; i++) { // going from the first index(0) to the last index(length of array-1)\n",
    "    System.out.println(\"Index \"+i+\": \"+numbers[i]);\n",
    "}"
   ]
  },
  {
   "cell_type": "code",
   "execution_count": 5,
   "metadata": {},
   "outputs": [
    {
     "name": "stdout",
     "output_type": "stream",
     "text": [
      "Index 0 : 10\n",
      "Index 1 : 20\n",
      "Index 2 : 30\n",
      "Index 3 : 40\n"
     ]
    }
   ],
   "source": [
    "numbers=[10,20,30,40]\n",
    "for i in range(0,len(numbers)):\n",
    "    print(\"Index\",i,\":\",numbers[i])"
   ]
  },
  {
   "cell_type": "markdown",
   "metadata": {},
   "source": [
    "## Enhanced For Loop (For-each)\n",
    "Iterates through the array without passing in the index of each element."
   ]
  },
  {
   "cell_type": "code",
   "execution_count": 1,
   "metadata": {},
   "outputs": [
    {
     "name": "stdout",
     "output_type": "stream",
     "text": [
      "10\n",
      "20\n",
      "30\n",
      "40\n",
      "50\n"
     ]
    }
   ],
   "source": [
    "int[] numbers = {10, 20, 30, 40, 50};\n",
    "for (int number : numbers) {\n",
    "    System.out.println(number);\n",
    "}"
   ]
  },
  {
   "cell_type": "code",
   "execution_count": 3,
   "metadata": {},
   "outputs": [
    {
     "name": "stdout",
     "output_type": "stream",
     "text": [
      "10\n",
      "20\n",
      "30\n",
      "40\n",
      "50\n",
      "60\n"
     ]
    }
   ],
   "source": [
    "numbers=[10,20,30,40,50,60]\n",
    "for number in  numbers:   \n",
    "    print(number)"
   ]
  },
  {
   "cell_type": "markdown",
   "metadata": {},
   "source": [
    "# Topic 6.2 - Traversing an Array (1D)\n",
    "> Using iteration statements (standard for loops and while loops) to access each element in an array. \n"
   ]
  },
  {
   "cell_type": "markdown",
   "metadata": {},
   "source": [
    "## Standard For Loop\n",
    "- An array in java is indexed from _ to the number of elements - _. "
   ]
  },
  {
   "cell_type": "markdown",
   "metadata": {},
   "source": [
    "**Review on For Loops**\n",
    "- init: The init expression is used for initializing a variable, and it is executed only once.\n",
    "- condition: It executes the condition statement for every iteration\n",
    "- incr/decr: It is the increment or decrement statement applied to the variable, updates the initial expression.\n",
    "\n",
    "![image](https://github.com/tanishapatil1234/student/assets/111611921/ec109b9d-f3be-451f-9d87-6488a1c96e2b)\n"
   ]
  },
  {
   "cell_type": "code",
   "execution_count": null,
   "metadata": {},
   "outputs": [],
   "source": [
    "import java.util.Random;\n",
    "\n",
    "/*  public class RandomArray {\n",
    "    public static void main(String[] args){\n",
    "    int [] list = new int[6];\n",
    "    Random rand = new Random(); \n",
    "*/\n",
    "    // FOR LOOP 1\n",
    "    for (int i = 0; i < list.length; i++){\n",
    "        list[i] = rand.nextInt(4);\n",
    "    }\n",
    "\n",
    "    // FOR LOOP 2\n",
    "   for(int element: list){\n",
    "        System.out.println(element);\n",
    "    }\n",
    "\n",
    "/*   }\n",
    "\n",
    "   }\n",
    "\n",
    "  RandomArray.main(null);\n",
    "*/"
   ]
  },
  {
   "cell_type": "markdown",
   "metadata": {},
   "source": [
    "![download](https://github.com/tanishapatil1234/student/assets/111611921/39e2f50d-6eca-4dcd-9d57-489662a26391)\n"
   ]
  },
  {
   "cell_type": "markdown",
   "metadata": {},
   "source": [
    "# For loop : Accessing Some Elements of a List"
   ]
  },
  {
   "cell_type": "markdown",
   "metadata": {},
   "source": [
    "### Things to Consider\n",
    "\n",
    "1. If I only wanted to access the elements at even indices of the list (0, 2, 4), what could I change in the statement below to accomplish that?  \n",
    "\n",
    "2. What about odd?  "
   ]
  },
  {
   "cell_type": "code",
   "execution_count": 5,
   "metadata": {},
   "outputs": [
    {
     "name": "stdout",
     "output_type": "stream",
     "text": [
      "Even Index\n",
      "0\n",
      "2\n",
      "4\n",
      "Odd Index\n",
      "1\n",
      "3\n",
      "5\n"
     ]
    }
   ],
   "source": [
    "// EVEN\n",
    "int[] list = {0, 1, 2, 3, 4, 5};\n",
    "System.out.println(\"Even Index\");\n",
    "for(int index = 0; index < list.length; index+=2){\n",
    "    System.out.println(list[index]);\n",
    "}\n",
    "\n",
    "// ODD\n",
    "int[] list = {0, 1, 2, 3, 4, 5};\n",
    "System.out.println(\"Odd Index\");\n",
    "for(int index = 1; index < list.length; index+=2){\n",
    "    System.out.println(list[index]);\n",
    "}"
   ]
  },
  {
   "cell_type": "markdown",
   "metadata": {},
   "source": [
    "**Note: These are NOT traversals, even though these are for loops. This is because not every element in the array is accessed.**"
   ]
  },
  {
   "cell_type": "markdown",
   "metadata": {},
   "source": [
    "## Standard While Loop\n"
   ]
  },
  {
   "cell_type": "markdown",
   "metadata": {},
   "source": [
    "6. Does the following loop accomplish traversing the array? "
   ]
  },
  {
   "cell_type": "code",
   "execution_count": null,
   "metadata": {},
   "outputs": [],
   "source": [
    "int [] list = new int[5];\n",
    "int index = 0; \n",
    "\n",
    "while (index < list.length) \n",
    "{\n",
    "    // Do something\n",
    "    index ++; \n",
    "}"
   ]
  },
  {
   "cell_type": "markdown",
   "metadata": {},
   "source": [
    "7. This while loop and the for loop we used earlier accomplish the same task. The main difference is that after the loop is completed, the variable 'index' in the while loop will still exist. The variable 'i' in the for loop will not. Why? \n",
    "\n",
    "__________________________________"
   ]
  },
  {
   "cell_type": "markdown",
   "metadata": {},
   "source": [
    "## Bounds Errors"
   ]
  },
  {
   "cell_type": "markdown",
   "metadata": {},
   "source": [
    "When traversing an array, we need to be careful with the indices to avoid an ArrayIndexOutOfBoundsException being thrown. "
   ]
  },
  {
   "cell_type": "markdown",
   "metadata": {},
   "source": [
    "**ATTENTION: MOST COMMON MISTAKE:**\n",
    "8. What is wrong with the for loop and while loop below? Why does this produce an ArrayIndexOutOfBoundsException error? The first index is 0 making the equation invalid. You must change the signs or add a -1"
   ]
  },
  {
   "cell_type": "code",
   "execution_count": 6,
   "metadata": {},
   "outputs": [
    {
     "ename": "IncompleteSourceException",
     "evalue": "for(int i = 0; i <= list.length; i ++)",
     "output_type": "error",
     "traceback": [
      "\u001b[1m\u001b[31mIncomplete input:\u001b[0m",
      "\u001b[1m\u001b[30m|   \u001b[1m\u001b[30mfor(int i = 0; i <= list.length; i ++)\u001b[0m"
     ]
    }
   ],
   "source": [
    "for(int i = 0; i <= list.length; i ++)"
   ]
  },
  {
   "cell_type": "code",
   "execution_count": 7,
   "metadata": {},
   "outputs": [
    {
     "ename": "IncompleteSourceException",
     "evalue": "while (index <= list.length)",
     "output_type": "error",
     "traceback": [
      "\u001b[1m\u001b[31mIncomplete input:\u001b[0m",
      "\u001b[1m\u001b[30m|   \u001b[1m\u001b[30mwhile (index <= list.length)\u001b[0m"
     ]
    }
   ],
   "source": [
    "int index = 0; \n",
    "while (index <= list.length)"
   ]
  },
  {
   "cell_type": "markdown",
   "metadata": {},
   "source": [
    "**Off by One Error** : missing the first or last element of an array when trying to traverse"
   ]
  },
  {
   "cell_type": "code",
   "execution_count": 8,
   "metadata": {},
   "outputs": [
    {
     "ename": "CompilationException",
     "evalue": "",
     "output_type": "error",
     "traceback": [
      "\u001b[1m\u001b[30m|   \u001b[1m\u001b[30m\u001b[0m\u001b[1m\u001b[30m\u001b[41m\u001b[0m\u001b[1m\u001b[30m[0, 1, 2, 3, 4]\u001b[0m",
      "\u001b[1m\u001b[31millegal start of expression\u001b[0m",
      ""
     ]
    }
   ],
   "source": [
    "[0, 1, 2, 3, 4]"
   ]
  },
  {
   "cell_type": "code",
   "execution_count": 9,
   "metadata": {},
   "outputs": [
    {
     "ename": "IncompleteSourceException",
     "evalue": "// This won't access the last element in the list\nfor(int i = 0; i <= list.length - 1; i ++)",
     "output_type": "error",
     "traceback": [
      "\u001b[1m\u001b[31mIncomplete input:\u001b[0m",
      "\u001b[1m\u001b[30m|   \u001b[1m\u001b[30m// This won't access the last element in the list\u001b[0m",
      "\u001b[1m\u001b[30m|   \u001b[1m\u001b[30mfor(int i = 0; i <= list.length - 1; i ++)\u001b[0m"
     ]
    }
   ],
   "source": [
    "// This won't access the last element in the list\n",
    "for(int i = 0; i <= list.length - 1; i ++)"
   ]
  },
  {
   "cell_type": "code",
   "execution_count": 10,
   "metadata": {},
   "outputs": [
    {
     "ename": "IncompleteSourceException",
     "evalue": "while (index <= list.length)",
     "output_type": "error",
     "traceback": [
      "\u001b[1m\u001b[31mIncomplete input:\u001b[0m",
      "\u001b[1m\u001b[30m|   \u001b[1m\u001b[30mwhile (index <= list.length)\u001b[0m"
     ]
    }
   ],
   "source": [
    "// This won't access the first element in the list\n",
    "int index = 1; \n",
    "while (index <= list.length)"
   ]
  },
  {
   "cell_type": "markdown",
   "metadata": {},
   "source": [
    "## Developing Methods Using Arrays\n",
    "Reviewing common methods asked on AP Exam FRQs"
   ]
  },
  {
   "cell_type": "markdown",
   "metadata": {},
   "source": [
    "### Average Value"
   ]
  },
  {
   "cell_type": "markdown",
   "metadata": {},
   "source": [
    "Complete the popcorn hack below in order to return the average value of the elements in the list numbers. "
   ]
  },
  {
   "cell_type": "code",
   "execution_count": 11,
   "metadata": {},
   "outputs": [
    {
     "name": "stdout",
     "output_type": "stream",
     "text": [
      "The average of the numbers is: 15.0\n"
     ]
    }
   ],
   "source": [
    "public class ArrayAverage {\n",
    "    public static void main(String[] args) {\n",
    "        int[] numbers = {5, 10, 15, 20, 25};\n",
    "        int sum = 0;\n",
    "        double average;\n",
    "        \n",
    "        for (int i = 0; i<numbers.length;i++) {\n",
    "            sum += numbers[i]; \n",
    "        }\n",
    "        \n",
    "       \n",
    "        average = (double) sum / numbers.length; /* missing code */\n",
    "        \n",
    "        System.out.println(\"The average of the numbers is: \" + average);\n",
    "    }\n",
    "}\n",
    "\n",
    "ArrayAverage.main(null);"
   ]
  },
  {
   "cell_type": "markdown",
   "metadata": {},
   "source": [
    "# 6.3 Enhanced for loop for Arrays\n",
    "- the enhanced for loop is also known as the “for each” loop\n",
    "- provides a simplified way to loop through elements in an array, collection, or other iterable data structures."
   ]
  },
  {
   "cell_type": "code",
   "execution_count": null,
   "metadata": {},
   "outputs": [],
   "source": [
    "//syntax for enhanced for loop\n",
    "for (dataType element : array) {\n",
    "    // code to process 'element'\n",
    "}"
   ]
  },
  {
   "cell_type": "markdown",
   "metadata": {},
   "source": [
    "- the data type in the loop must match the array’s element data type."
   ]
  },
  {
   "cell_type": "code",
   "execution_count": 3,
   "metadata": {},
   "outputs": [
    {
     "name": "stdout",
     "output_type": "stream",
     "text": [
      "1\n",
      "2\n",
      "3\n",
      "4\n",
      "5\n"
     ]
    }
   ],
   "source": [
    "//array of int matches element int\n",
    "int[] numbers = {1, 2, 3, 4, 5};\n",
    "for (int num : numbers) {\n",
    "    System.out.println(num);\n",
    "}"
   ]
  },
  {
   "cell_type": "markdown",
   "metadata": {},
   "source": [
    "## Comparing a regular for loop with the enhanced for loop\n",
    "\n"
   ]
  },
  {
   "cell_type": "markdown",
   "metadata": {},
   "source": [
    "Popcorn Hack: Rewrite this code to use an enhanced for loop instead. make comments explaining what you added/changed"
   ]
  },
  {
   "cell_type": "code",
   "execution_count": 12,
   "metadata": {},
   "outputs": [
    {
     "name": "stdout",
     "output_type": "stream",
     "text": [
      "Quote: \"Success is not final, failure is not fatal: It is the courage to continue that counts.\"\n",
      "Emotion: Courageous\n",
      "---------------------------\n",
      "Quote: \"The only way to do great work is to love what you do.\"\n",
      "Emotion: Passionate\n",
      "---------------------------\n",
      "Quote: \"The best way to predict the future is to create it.\"\n",
      "Emotion: Innovative\n",
      "---------------------------\n"
     ]
    }
   ],
   "source": [
    "import java.util.List;\n",
    "\n",
    "class Quote {\n",
    "    private List<String> quotes;\n",
    "    private List<String> emotions;\n",
    "\n",
    "    public Quote(List<String> quotes, List<String> emotions) {\n",
    "        this.quotes = quotes;\n",
    "        this.emotions = emotions;\n",
    "    }\n",
    "\n",
    "    public void printQuotesWithEmotions() {\n",
    "        // Make a change in the code here! \n",
    "        for (int i = 0; i < quotes.size() && i < emotions.size(); i++) {\n",
    "            String quote = quotes.get(i);\n",
    "            String emotion = emotions.get(i);\n",
    "            System.out.println(\"Quote: \\\"\" + quote + \"\\\"\");\n",
    "            System.out.println(\"Emotion: \" + emotion);\n",
    "            System.out.println(\"---------------------------\");\n",
    "        }\n",
    "    }\n",
    "\n",
    "    public static void main(String[] args) {\n",
    "        List<String> quotes = List.of(\n",
    "            \"Success is not final, failure is not fatal: It is the courage to continue that counts.\",\n",
    "            \"The only way to do great work is to love what you do.\",\n",
    "            \"The best way to predict the future is to create it.\"\n",
    "        );\n",
    "\n",
    "        List<String> emotions = List.of(\n",
    "            \"Courageous\",\n",
    "            \"Passionate\",\n",
    "            \"Innovative\"\n",
    "        );\n",
    "\n",
    "        Quote quotePrinter = new Quote(quotes, emotions);\n",
    "        quotePrinter.printQuotesWithEmotions();\n",
    "    }\n",
    "}\n",
    "\n",
    "Quote.main(null);"
   ]
  },
  {
   "cell_type": "markdown",
   "metadata": {},
   "source": [
    "What are some of the benefits of using an enhanced for loop in this case versus a regular for loop?"
   ]
  },
  {
   "cell_type": "markdown",
   "metadata": {},
   "source": [
    "## Limitations to enhanced for loop\n",
    "- it does not provide access to the index of the current element.\n",
    "    - This means you cannot easily determine the position of the element in the array or collection.\n",
    "    - But when you want to search for a specific element in a collection and you don’t necessarily need to access the index\n",
    "    - If you need to work with indices, you should use a traditional for loop instead.\n",
    "- read-only access to elements.\n",
    "    - You cannot modify the elements within the loop\n",
    "    - Thus, when you need to modify a collection based on a condition. You should use a regular for loop"
   ]
  },
  {
   "cell_type": "markdown",
   "metadata": {},
   "source": [
    "For the next two code blocks, decide whether or not its better to use a regular for loop or an enhanced one, explain why. write the code for them"
   ]
  },
  {
   "cell_type": "markdown",
   "metadata": {},
   "source": [
    "1. Searching for an Element in an ArrayList"
   ]
  },
  {
   "cell_type": "code",
   "execution_count": null,
   "metadata": {},
   "outputs": [],
   "source": [
    "ArrayList<String> names = new ArrayList<>();\n",
    "String searchName = \"Vivian\";\n",
    "\n",
    "//code goes here\n",
    "for () {\n",
    "}"
   ]
  },
  {
   "cell_type": "markdown",
   "metadata": {},
   "source": [
    "2. Removing Even Numbers from an ArrayList"
   ]
  },
  {
   "cell_type": "code",
   "execution_count": null,
   "metadata": {},
   "outputs": [],
   "source": [
    "ArrayList<Integer> numbers = new ArrayList<>();\n",
    "\n",
    "//code goes here\n",
    "for () {\n",
    "}"
   ]
  },
  {
   "cell_type": "markdown",
   "metadata": {},
   "source": [
    "# 6.4: Developing Algorithms Using Arrays \n",
    "## How to identify the maximum or minimum value in an array"
   ]
  },
  {
   "cell_type": "markdown",
   "metadata": {},
   "source": [
    "It is a common task to determine what the largest or smallest value stored is inside an array. In order to do this, we need a method that can take a parameter of an array of primitve values (`int` or `double`) and return the item that is at the appropriate extreme.\n",
    "\n",
    "Inside the method a local variable is needed to store the current max or min value that will be compared against all the values in the array. You can assign the current value to be either the opposite extreme or the first item you would be looking at.\n",
    "\n",
    "You can use either a standard `for` loop or an enhanced `for` loop to determine the max or min. Assign the temporary variable a starting value based on what extreme you are searching for.\n",
    "\n",
    "Inside the `for` loop, compare the current value against the local variable; if the current value is better, assign it to the temporary variable. When the loop is over, the local variable will contain the appropriate value and is still available and within scope and can be returned from the method."
   ]
  },
  {
   "cell_type": "markdown",
   "metadata": {},
   "source": [
    "## Find max in an array of `double` values"
   ]
  },
  {
   "cell_type": "code",
   "execution_count": null,
   "metadata": {},
   "outputs": [],
   "source": [
    "private double findMax(double [] values) {\n",
    "    double max = values[0];\n",
    "\n",
    "    for (int index = 1; index < values.length; index++) {\n",
    "        if (values[index] > max) {\n",
    "            max = values[index];\n",
    "        }\n",
    "    }\n",
    "    return max;\n",
    "}"
   ]
  },
  {
   "cell_type": "markdown",
   "metadata": {},
   "source": [
    "## Find min in an array of `int` values"
   ]
  },
  {
   "cell_type": "code",
   "execution_count": null,
   "metadata": {},
   "outputs": [],
   "source": [
    "private int findMin(int [] values) {\n",
    "    int min = Integer.MAX_VALUE;\n",
    "\n",
    "    for (int currentValue: values) {\n",
    "        if (currentValue < min) {\n",
    "            min = currentValue;\n",
    "        }\n",
    "    }\n",
    "    return min;\n",
    "}"
   ]
  },
  {
   "cell_type": "markdown",
   "metadata": {},
   "source": [
    "## Let's Practice!"
   ]
  },
  {
   "cell_type": "markdown",
   "metadata": {},
   "source": [
    "**Popcorn hack #1**"
   ]
  },
  {
   "cell_type": "code",
   "execution_count": 6,
   "metadata": {},
   "outputs": [],
   "source": [
    "// What needs to be changed to find the index of the max value? (write correct code in cell below)\n",
    "// new code\n",
    "private int findMaxIndex(double[] values) {\n",
    "    int maxIndex = 0;\n",
    "    double maxValue = values[0];\n",
    "\n",
    "    for (int i = 1; i < values.length; i++) {\n",
    "        if (values[i] > maxValue) {\n",
    "            maxValue = values[i];\n",
    "            maxIndex = i;\n",
    "        }\n",
    "    }\n",
    "\n",
    "    return maxIndex;\n",
    "}"
   ]
  },
  {
   "cell_type": "markdown",
   "metadata": {},
   "source": [
    "## How to calculate the average value from objects in an array"
   ]
  },
  {
   "cell_type": "markdown",
   "metadata": {},
   "source": [
    "It is a common task to determine what is the average value returned from items stored inside an array. In order to do this, we need a method that can take a parameter of an array of Objects (DebugDuck) and calculate and return the average value that each instance of DebugDuck returns from the method.\n",
    "\n",
    "Inside the method; a local double variable is needed to store the accumulated values. Then we use a for loop to traverse the array and add the current total to the variable. After accumulating all the values we need to divide the total by the number of items stored in the array."
   ]
  },
  {
   "cell_type": "markdown",
   "metadata": {},
   "source": [
    "## Using a standard `for` loop\n"
   ]
  },
  {
   "cell_type": "code",
   "execution_count": null,
   "metadata": {},
   "outputs": [],
   "source": [
    "private double calculateAverage(DebugDuck [] ducks) {\n",
    "    double average = 0.0;\n",
    "\n",
    "    for (int index = 0; index < ducks.length; index++) {\n",
    "        average += ducks[index].getQuestionCount();\n",
    "    }\n",
    "    average = average / ducks.length;\n",
    "\n",
    "    return average;\n",
    "}"
   ]
  },
  {
   "cell_type": "markdown",
   "metadata": {},
   "source": [
    "## Using a standard `enhanced` loop\n"
   ]
  },
  {
   "cell_type": "code",
   "execution_count": null,
   "metadata": {},
   "outputs": [],
   "source": [
    "private double calculateAverage(DebugDuck [] ducks) {\n",
    "    double average = 0.0;\n",
    "\n",
    "    for (DebugDuck currentDuck: ducks) {\n",
    "        average += currentDuck.getQuestionCount();\n",
    "    }\n",
    "    average = average / ducks.length;\n",
    "\n",
    "    return average;\n",
    "}"
   ]
  },
  {
   "cell_type": "markdown",
   "metadata": {},
   "source": [
    "**Does the order of accumulation matter?**\n",
    "- Yes\n",
    "**Can you declare the variable inside the loop?**\n",
    "- Yes and usually good practice to do so as it avoids confusion"
   ]
  },
  {
   "cell_type": "markdown",
   "metadata": {},
   "source": [
    "## Shfiting Array contents to the right"
   ]
  },
  {
   "cell_type": "markdown",
   "metadata": {},
   "source": [
    "The contents of an array often need to be shifted as part of a solution to using the data inside.\n",
    "\n",
    "We need to know how much to shift the array by. This will need to be an int obviously.\n",
    "\n",
    "In order to move the contents we next need to make an empty array of the same size and then iterate over the original array and properly copy the values to the adjusted index in the new array.\n",
    "\n",
    "We then need to assign the new array back into the original variable.\n",
    "\n"
   ]
  },
  {
   "cell_type": "markdown",
   "metadata": {},
   "source": [
    "**What kind of for loop should we use? Why?**\n",
    "- For loop so that way you get the desired output"
   ]
  },
  {
   "cell_type": "code",
   "execution_count": 5,
   "metadata": {},
   "outputs": [
    {
     "name": "stdout",
     "output_type": "stream",
     "text": [
      "3 \n",
      "4 \n",
      "5 \n",
      "1 \n",
      "2 \n"
     ]
    }
   ],
   "source": [
    "int [] numbers = {1,2,3,4,5};\n",
    "int [] shifted = new int [numbers.length];\n",
    "int shift = 8;\n",
    "for (int index = 0; index < numbers.length; index++) {\n",
    "    shifted [Math.abs((index + shift) % numbers.length)] = numbers[index];\n",
    "}\n",
    "numbers = shifted;\n",
    "for (int num : numbers) {\n",
    "    System.out.println(num + \" \");\n",
    "}"
   ]
  },
  {
   "cell_type": "markdown",
   "metadata": {},
   "source": [
    "**Why are we using the % operator?**\n",
    "- To calculate the wrapped around index"
   ]
  },
  {
   "cell_type": "markdown",
   "metadata": {},
   "source": [
    "**Popcorn hack #2**"
   ]
  },
  {
   "cell_type": "markdown",
   "metadata": {},
   "source": [
    "How would we code a left shift? Write a left shift using the variables below\n",
    "\n"
   ]
  },
  {
   "cell_type": "code",
   "execution_count": null,
   "metadata": {},
   "outputs": [],
   "source": [
    "String [] words = {\"alpha\", \"beta\", \"gamma\", \"delta\"};\n",
    "int shiftWord = 2;\n",
    "\n",
    "//new code\n",
    "String[] shiftedWords = new String[words.length];\n",
    "for (int i = 0; i < words.length; i++) {\n",
    " shiftedWords[i] = words[(i + shiftWord) % words.length];\n",
    "}"
   ]
  },
  {
   "cell_type": "markdown",
   "metadata": {},
   "source": [
    "**Why should the array index be wrapped in a call to Math.abs?**\n",
    "- To make sure the index remains positive"
   ]
  },
  {
   "cell_type": "markdown",
   "metadata": {},
   "source": [
    "1. What will be displayed as the output? "
   ]
  },
  {
   "cell_type": "code",
   "execution_count": null,
   "metadata": {},
   "outputs": [],
   "source": [
    "String [] list = {\"red\", \"yellow\", \"blue\"}; \n",
    "for (int i = 0; i < list.length; i++)\n",
    "{\n",
    "    System.out.print(list[i].length()+ \"-\" )\n",
    "}"
   ]
  },
  {
   "cell_type": "markdown",
   "metadata": {},
   "source": [
    "- A. red-yellow-blue\n",
    "- B. 3-3-3-\n",
    "- C. 3-6-4-\n",
    "- D. 3-6-\n",
    "- E. 3-6-4\n",
    "\n",
    "- E. 3-6-4"
   ]
  },
  {
   "cell_type": "markdown",
   "metadata": {},
   "source": [
    "Write why you chose that answer! \n",
    "______________________"
   ]
  },
  {
   "cell_type": "markdown",
   "metadata": {},
   "source": [
    "2. The code below is meant to display every other number in the list numbers. Which of the following should replace the missing code in order to do this? "
   ]
  },
  {
   "cell_type": "code",
   "execution_count": null,
   "metadata": {},
   "outputs": [],
   "source": [
    "int [] numbers = {3, -4, 6, -7, 2}; \n",
    "for(int i = 0; i < numbers.length; i+=2)\n",
    "{\n",
    "    System.out.println(numbers[i]);\n",
    "}"
   ]
  },
  {
   "cell_type": "markdown",
   "metadata": {},
   "source": [
    "- A. int i = 0; i < numbers.length/2; i++\n",
    "- B. int i = 1; i < numbers.length; i++\n",
    "- C. int i = 1; i < numbers.length; i+=2\n",
    "- D. int i = 0; i < numbers.length; i++\n",
    "- E. int i = 0; i < numbers.length; i+=2\n",
    "\n",
    "- E. int 1 = 0; i < numbers.length; i+=2"
   ]
  },
  {
   "cell_type": "markdown",
   "metadata": {},
   "source": [
    "Write why you chose that answer! \n",
    "______________________"
   ]
  },
  {
   "cell_type": "markdown",
   "metadata": {},
   "source": [
    "3. (This one is a little hard) Which of the following would fix the code so that the elements in arr are reversed. Hint: try creating a list in your head and trace the code to see if the code accomplishes its goal."
   ]
  },
  {
   "cell_type": "code",
   "execution_count": null,
   "metadata": {},
   "outputs": [],
   "source": [
    "public static void reverseArray(double [] arr)\n",
    "{\n",
    "    for(int = 0; i< arr.length; i++)\n",
    "    {\n",
    "        double temp = arr[i];\n",
    "        arr[i] = arr[arr.length-1-i];\n",
    "        arr[arr.length-1-i] = temp; \n",
    "    }\n",
    "}"
   ]
  },
  {
   "cell_type": "markdown",
   "metadata": {},
   "source": [
    "- A. Change loop condition to: i < arr.length - 1\n",
    "- B. Change loop condition to: i < arr.length/2\n",
    "- C. Change loop condition to: i < arr.length/2 - 1\n",
    "\n",
    "- A. Change loop condition to: i < arr.length - 1"
   ]
  },
  {
   "cell_type": "markdown",
   "metadata": {},
   "source": [
    "In case you are having trouble with question 3 the answer is B. Write about why! \n",
    "\n",
    "_______________________________"
   ]
  }
 ],
 "metadata": {
  "kernelspec": {
   "display_name": "Java",
   "language": "java",
   "name": "java"
  },
  "language_info": {
   "codemirror_mode": {
    "name": "ipython",
    "version": 3
   },
   "file_extension": ".py",
   "mimetype": "text/x-python",
   "name": "java",
   "nbconvert_exporter": "python",
   "pygments_lexer": "ipython3",
   "version": "3.11.4"
  },
  "orig_nbformat": 4
 },
 "nbformat": 4,
 "nbformat_minor": 2
}
