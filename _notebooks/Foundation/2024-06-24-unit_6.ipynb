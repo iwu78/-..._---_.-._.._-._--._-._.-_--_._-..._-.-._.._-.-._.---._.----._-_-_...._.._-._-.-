{
 "cells": [
  {
   "cell_type": "raw",
   "metadata": {
    "vscode": {
     "languageId": "raw"
    }
   },
   "source": [
    "---\n",
    "layout: post\n",
    "toc: true\n",
    "title: Unit 6 - Arrays\n",
    "description: Arrays Lesson\n",
    "authors: Aniket Chakradeo, Soham Kamat\n",
    "categories: [AP CSA]\n",
    "courses: { csa: {week: 6} }\n",
    "type: ccc\n",
    "permalink: /unit6lesson\n",
    "---"
   ]
  },
  {
   "cell_type": "markdown",
   "metadata": {},
   "source": [
    "## 6.1 Array Creation and Access\n",
    "\n",
    "#### MUST KNOW TERMS\n",
    "- Array: A data structure that holds a group of object references.\n",
    "- Element: A single item stored inside an array.\n",
    "- Element index: The location of an element in the array (in Java AND PYTHON(called a list) the first element is at index 0).\n",
    "- Array length: Number of elements in the Array\n"
   ]
  },
  {
   "cell_type": "markdown",
   "metadata": {},
   "source": [
    "## Declaring Array\n",
    "To declare an array, you need the name of the array and the datatype.\n",
    "\n",
    "Syntax: dataType[] arrayName;\n",
    "\n",
    "\n",
    "(note in python that no need to declare which is called dynamic typing)"
   ]
  },
  {
   "cell_type": "code",
   "execution_count": 1,
   "metadata": {},
   "outputs": [],
   "source": [
    "int[] grades; // Declare an integer array\n",
    "String[] class_list; // Declare a string array\n",
    "boolean[] light_switch;"
   ]
  },
  {
   "cell_type": "markdown",
   "metadata": {},
   "source": [
    "## Creating an Array\n",
    "\n",
    "Gives memory for the array but we need to specify its size for java compared to python(with arraylists in the next lesson you won't)"
   ]
  },
  {
   "cell_type": "code",
   "execution_count": null,
   "metadata": {},
   "outputs": [],
   "source": [
    "// Syntax: arrayName = new dataType[size];\n",
    "grades = new int[5]; // Create an integer array with 5 elements\n",
    "class_list = new String[3]; // Create a string array with 3 elements\n",
    "light_switch= new boolean[5];"
   ]
  },
  {
   "cell_type": "code",
   "execution_count": null,
   "metadata": {},
   "outputs": [],
   "source": [
    "numbers=list()\n",
    "names=list()\n",
    "light_switch=list()"
   ]
  },
  {
   "cell_type": "markdown",
   "metadata": {},
   "source": [
    "##  Array with custom Objects"
   ]
  },
  {
   "cell_type": "code",
   "execution_count": 3,
   "metadata": {},
   "outputs": [
    {
     "name": "stdout",
     "output_type": "stream",
     "text": [
      "[REPL.$JShell$12$Coder@7224f6c3, REPL.$JShell$12$Coder@761b6c5f, REPL.$JShell$12$Coder@3319fcf8, REPL.$JShell$12$Coder@57a74fcb, REPL.$JShell$12$Coder@2e02912]\n"
     ]
    }
   ],
   "source": [
    "class Coder{\n",
    "    public boolean codecodecoder;\n",
    "    public int age;\n",
    "    Coder(boolean codecodecoder, int age){\n",
    "        this.codecodecoder=codecodecoder;\n",
    "        this.age=age;\n",
    "    }\n",
    "}\n",
    "Coder[]allthecoders=new Coder[5];\n",
    "for(int i=0;i<allthecoders.length;i++){\n",
    "    allthecoders[i]=new Coder(true,10);\n",
    "}\n",
    "\n",
    "System.out.println(Arrays.toString(allthecoders));"
   ]
  },
  {
   "cell_type": "markdown",
   "metadata": {},
   "source": [
    "## Accessing Array Elements\n",
    "\n",
    "Acsessing an element's value using it's index in the array"
   ]
  },
  {
   "cell_type": "code",
   "execution_count": 1,
   "metadata": {},
   "outputs": [
    {
     "name": "stdout",
     "output_type": "stream",
     "text": [
      "20\n"
     ]
    }
   ],
   "source": [
    "int[] grades = {10, 20, 30, 40, 50};\n",
    "int element = grades[1]; // Access the second grade (20) using index 2\n",
    "System.out.println(element); // Output: 30"
   ]
  },
  {
   "cell_type": "code",
   "execution_count": 1,
   "metadata": {},
   "outputs": [
    {
     "ename": "NameError",
     "evalue": "name 'numbers' is not defined",
     "output_type": "error",
     "traceback": [
      "\u001b[0;31m---------------------------------------------------------------------------\u001b[0m",
      "\u001b[0;31mNameError\u001b[0m                                 Traceback (most recent call last)",
      "Cell \u001b[0;32mIn[1], line 2\u001b[0m\n\u001b[1;32m      1\u001b[0m \u001b[38;5;66;03m# Python translation/example\u001b[39;00m\n\u001b[0;32m----> 2\u001b[0m element\u001b[38;5;241m=\u001b[39m\u001b[43mnumbers\u001b[49m[\u001b[38;5;241m0\u001b[39m] \u001b[38;5;66;03m# the first element in the array/list\u001b[39;00m\n\u001b[1;32m      3\u001b[0m \u001b[38;5;28mprint\u001b[39m(element)\n",
      "\u001b[0;31mNameError\u001b[0m: name 'numbers' is not defined"
     ]
    }
   ],
   "source": [
    "# Python translation/example\n",
    "element=numbers[0] # the first element in the array/list\n",
    "print(element)\n"
   ]
  },
  {
   "cell_type": "markdown",
   "metadata": {},
   "source": [
    "## Array Length\n",
    "Finding the length of the array."
   ]
  },
  {
   "cell_type": "code",
   "execution_count": 2,
   "metadata": {},
   "outputs": [
    {
     "ename": "CompilationException",
     "evalue": "",
     "output_type": "error",
     "traceback": [
      "\u001b[1m\u001b[30m|   \u001b[1m\u001b[30mint length = \u001b[0m\u001b[1m\u001b[30m\u001b[41mnumbers\u001b[0m\u001b[1m\u001b[30m.length;\u001b[0m",
      "\u001b[1m\u001b[31mcannot find symbol\u001b[0m",
      "\u001b[1m\u001b[31m  symbol:   variable numbers\u001b[0m",
      ""
     ]
    }
   ],
   "source": [
    "int[] CodeRatings = {10, 20, 30, 40, 50, 60, 70, 80, 90};\n",
    "int length = numbers.length; // Get the length of the array and assign to an integer variable\n",
    "System.out.println(\"Array length and number of coders: \" + length); // Output: Array length: 5"
   ]
  },
  {
   "cell_type": "code",
   "execution_count": null,
   "metadata": {},
   "outputs": [],
   "source": [
    "grades=[10,20,30,40,50,60,70,80,90]\n",
    "length=len(grades)\n",
    "print(\"number of students\",length)"
   ]
  },
  {
   "cell_type": "markdown",
   "metadata": {},
   "source": [
    "## Modifying Array Elements\n",
    "Updates the value of a specific element in the array."
   ]
  },
  {
   "cell_type": "code",
   "execution_count": 14,
   "metadata": {},
   "outputs": [
    {
     "name": "stdout",
     "output_type": "stream",
     "text": [
      "Before: [10, 20, 30, 40, 50]\n",
      "After: [10, 20, 35, 40, 50]\n",
      "Before: [true, false, true, false]\n",
      "After: [false, false, true, false]\n"
     ]
    }
   ],
   "source": [
    "// integer array\n",
    "\n",
    "int[] grades = {10, 20, 30, 40, 50};\n",
    "System.out.println(\"Before: \"+Arrays.toString(grades));\n",
    "grades[2] = 35; // Change the third grade to 35\n",
    "System.out.println(\"After: \"+Arrays.toString(grades));\n",
    "\n",
    "\n",
    "// boolean array\n",
    "\n",
    "boolean[]light_switch={true,false,true,false}; //array of light switches with true meaning the light is on and false meaning its off\n",
    "System.out.println(\"Before: \"+Arrays.toString(light_switch));\n",
    "light_switch[0]=false; // turn off the first switch    true-->false\n",
    "System.out.println(\"After: \"+Arrays.toString(light_switch));\n"
   ]
  },
  {
   "cell_type": "code",
   "execution_count": 1,
   "metadata": {},
   "outputs": [
    {
     "name": "stdout",
     "output_type": "stream",
     "text": [
      "Before [10, 20, 30, 40]\n",
      "After [10, 100, 30, 40]\n"
     ]
    }
   ],
   "source": [
    "numbers=[10,20,30,40]\n",
    "print(\"Before\",numbers)\n",
    "numbers[1]=100 # changing the secon d element to 100\n",
    "print(\"After\",numbers)"
   ]
  },
  {
   "cell_type": "markdown",
   "metadata": {},
   "source": [
    "## Iterating Through an Array\n",
    "Loops through the array, printing each element."
   ]
  },
  {
   "cell_type": "code",
   "execution_count": 4,
   "metadata": {},
   "outputs": [
    {
     "name": "stdout",
     "output_type": "stream",
     "text": [
      "Index 0: 10\n",
      "Index 1: 20\n",
      "Index 2: 30\n",
      "Index 3: 40\n",
      "Index 4: 50\n"
     ]
    }
   ],
   "source": [
    "int[] numbers = {10, 20, 30, 40, 50};\n",
    "for (int i = 0; i < numbers.length; i++) { // going from the first index(0) to the last index(length of array-1)\n",
    "    System.out.println(\"Index \"+i+\": \"+numbers[i]);\n",
    "}"
   ]
  },
  {
   "cell_type": "code",
   "execution_count": 5,
   "metadata": {},
   "outputs": [
    {
     "name": "stdout",
     "output_type": "stream",
     "text": [
      "Index 0 : 10\n",
      "Index 1 : 20\n",
      "Index 2 : 30\n",
      "Index 3 : 40\n"
     ]
    }
   ],
   "source": [
    "numbers=[10,20,30,40]\n",
    "for i in range(0,len(numbers)):\n",
    "    print(\"Index\",i,\":\",numbers[i])"
   ]
  },
  {
   "cell_type": "markdown",
   "metadata": {},
   "source": [
    "## Enhanced For Loop (For-each)\n",
    "Iterates through the array without passing in the index of each element."
   ]
  },
  {
   "cell_type": "code",
   "execution_count": 1,
   "metadata": {},
   "outputs": [
    {
     "name": "stdout",
     "output_type": "stream",
     "text": [
      "10\n",
      "20\n",
      "30\n",
      "40\n",
      "50\n"
     ]
    }
   ],
   "source": [
    "int[] numbers = {10, 20, 30, 40, 50};\n",
    "for (int number : numbers) {\n",
    "    System.out.println(number);\n",
    "}"
   ]
  },
  {
   "cell_type": "code",
   "execution_count": 3,
   "metadata": {},
   "outputs": [
    {
     "name": "stdout",
     "output_type": "stream",
     "text": [
      "10\n",
      "20\n",
      "30\n",
      "40\n",
      "50\n",
      "60\n"
     ]
    }
   ],
   "source": [
    "numbers=[10,20,30,40,50,60]\n",
    "for number in  numbers:   \n",
    "    print(number)"
   ]
  }
 ],
 "metadata": {
  "kernelspec": {
   "display_name": "Java",
   "language": "java",
   "name": "java"
  },
  "language_info": {
   "codemirror_mode": "java",
   "file_extension": ".jshell",
   "mimetype": "text/x-java-source",
   "name": "java",
   "pygments_lexer": "java",
   "version": "17.0.11+7-LTS-207"
  },
  "orig_nbformat": 4
 },
 "nbformat": 4,
 "nbformat_minor": 2
}
